{
  "metadata": {
    "kernelspec": {
      "name": "python",
      "display_name": "Python (Pyodide)",
      "language": "python"
    },
    "language_info": {
      "codemirror_mode": {
        "name": "python",
        "version": 3
      },
      "file_extension": ".py",
      "mimetype": "text/x-python",
      "name": "python",
      "nbconvert_exporter": "python",
      "pygments_lexer": "ipython3",
      "version": "3.8"
    }
  },
  "nbformat_minor": 4,
  "nbformat": 4,
  "cells": [
    {
      "cell_type": "markdown",
      "source": "# Data Science Tools and Ecosystem",
      "metadata": {}
    },
    {
      "cell_type": "markdown",
      "source": "In this notebook, Data Science Tools and Ecosystem are summarized.",
      "metadata": {}
    },
    {
      "cell_type": "markdown",
      "source": "**Objectives:**\n- Popular Data Science languages\n- Popular data science libraries\n- Creating a table\n- Practicing Arithmetic expression",
      "metadata": {}
    },
    {
      "cell_type": "markdown",
      "source": "Some of the popular languages that Data Scientists use are:",
      "metadata": {}
    },
    {
      "cell_type": "markdown",
      "source": "1. Python\n2. SQL\n3. R\n4. Scala\n5. Java",
      "metadata": {}
    },
    {
      "cell_type": "markdown",
      "source": "Some of the commonly used libraries used by Data Scientists include:",
      "metadata": {}
    },
    {
      "cell_type": "markdown",
      "source": "1. Numpy\n2. Scipy\n3. Pandas\n4. Pytorch",
      "metadata": {}
    },
    {
      "cell_type": "markdown",
      "source": "|Data Science Tools|\n|----------------------|\n|Jupyter Notebook|\n|Rstudio|\n|Apache Zeppelin|\n",
      "metadata": {}
    },
    {
      "cell_type": "markdown",
      "source": "### Below are a few examples of evaluating arithmetic expressions in Python\n- 1+2\n- (2+3)*5\n",
      "metadata": {}
    },
    {
      "cell_type": "code",
      "source": "# This is a simple arithmetic expression to mutiply then add integers\n(3*4)+5",
      "metadata": {
        "trusted": true,
        "scrolled": true
      },
      "outputs": [
        {
          "execution_count": 5,
          "output_type": "execute_result",
          "data": {
            "text/plain": "17"
          },
          "metadata": {}
        }
      ],
      "execution_count": 5
    },
    {
      "cell_type": "code",
      "source": "# This will convert 200 minutes to hours by diving by 60\n200/60 ",
      "metadata": {
        "trusted": true
      },
      "outputs": [
        {
          "execution_count": 7,
          "output_type": "execute_result",
          "data": {
            "text/plain": "3.3333333333333335"
          },
          "metadata": {}
        }
      ],
      "execution_count": 7
    },
    {
      "cell_type": "markdown",
      "source": "## Author\nHabtamu",
      "metadata": {}
    },
    {
      "cell_type": "code",
      "source": "",
      "metadata": {
        "trusted": true
      },
      "outputs": [],
      "execution_count": null
    }
  ]
}